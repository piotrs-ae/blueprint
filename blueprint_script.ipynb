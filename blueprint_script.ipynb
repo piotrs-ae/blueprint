{
 "cells": [
  {
   "cell_type": "code",
   "execution_count": 12,
   "metadata": {},
   "outputs": [],
   "source": [
    "import pandas as pd\n",
    "intent = pd.read_csv('intent.csv')\n",
    "persona = pd.read_csv('persona.csv')\n",
    "subject = pd.read_csv('subject.csv')\n",
    "template = pd.read_csv('template.csv')\n",
    "pma = pd.read_csv('pma.csv')\n",
    "match_type = {'match_type': ['br', 'xx']}\n",
    "match_type = pd.DataFrame(match_type)\n",
    "ad_group_name = {'ad_group': ['subject,intent,pma,match_type']}\n",
    "ad_group_name = pd.DataFrame(ad_group_name)\n",
    "location = pd.read_csv(\"location.csv\")\n",
    "market = pd.read_csv('market.csv', usecols=['language', 'market', 'account', 'account_id'])\n",
    "campaign = pd.read_csv('campaign.csv', usecols=['market', 'campaign_name_template'])"
   ]
  },
  {
   "cell_type": "code",
   "execution_count": 13,
   "metadata": {},
   "outputs": [],
   "source": [
    "intermediate = template.merge(pma, on='intent_localised_id', how='inner')[['intent_localised_id', 'intent_localised_x', 'keyword_template', 'language', 'pma']]"
   ]
  },
  {
   "cell_type": "code",
   "execution_count": 14,
   "metadata": {},
   "outputs": [],
   "source": [
    "intermediate = intermediate.merge(match_type, how='cross')"
   ]
  },
  {
   "cell_type": "code",
   "execution_count": 15,
   "metadata": {},
   "outputs": [],
   "source": [
    "intermediate = intermediate.merge(ad_group_name, how='cross')"
   ]
  },
  {
   "cell_type": "code",
   "execution_count": 16,
   "metadata": {},
   "outputs": [],
   "source": [
    "intermediate = intermediate.merge(market, on='language', how='inner')"
   ]
  },
  {
   "cell_type": "code",
   "execution_count": 17,
   "metadata": {},
   "outputs": [],
   "source": [
    "import numpy as np\n",
    "from itertools import product\n",
    "\n",
    "dimension_dfs = {\n",
    "    'subject': subject,\n",
    "    'persona': persona\n",
    "}\n",
    "\n",
    "def create_keywords(row):\n",
    "    dimensions = row['keyword_template'].split(',')\n",
    "    language = row['language']\n",
    "    market = row['market']\n",
    "    combinations = []\n",
    "\n",
    "    for dimension in dimensions:\n",
    "\n",
    "        if dimension == 'location':\n",
    "            combinations.append(location['location'][location.market == market].values.tolist())\n",
    "\n",
    "        if dimension == 'intent':\n",
    "            combinations.append([row[\"intent_localised_x\"]])\n",
    "            continue\n",
    "        \n",
    "        if dimension in dimension_dfs:\n",
    "            combinations.append(dimension_dfs[dimension].loc[dimension_dfs[dimension]['language'] == language, f'{dimension}_localised'].values.tolist())\n",
    "        else:\n",
    "            combinations.append([dimension])\n",
    "\n",
    "    # Create all possible combinations\n",
    "    combinations = list(product(*combinations))\n",
    "    combinations = [' '.join(combination) for combination in combinations]\n",
    "\n",
    "    return combinations"
   ]
  },
  {
   "cell_type": "code",
   "execution_count": 18,
   "metadata": {},
   "outputs": [],
   "source": [
    "intermediate['keywords'] = intermediate.apply(create_keywords, axis=1)"
   ]
  },
  {
   "cell_type": "code",
   "execution_count": 19,
   "metadata": {},
   "outputs": [],
   "source": [
    "intermediate = intermediate.explode('keywords')"
   ]
  },
  {
   "cell_type": "code",
   "execution_count": 22,
   "metadata": {},
   "outputs": [],
   "source": [
    "intermediate = intermediate.merge(campaign, on='market', how='inner')"
   ]
  },
  {
   "cell_type": "code",
   "execution_count": 54,
   "metadata": {},
   "outputs": [
    {
     "data": {
      "text/plain": [
       "9975172"
      ]
     },
     "execution_count": 54,
     "metadata": {},
     "output_type": "execute_result"
    }
   ],
   "source": [
    "len(intermediate)"
   ]
  },
  {
   "cell_type": "code",
   "execution_count": 49,
   "metadata": {},
   "outputs": [],
   "source": [
    "def retrieve_dimension(input_string, keyword_string, dimension): \n",
    "    \n",
    "    split_string = input_string.split(\",\")\n",
    "\n",
    "    subject_index = split_string.index(dimension)\n",
    "\n",
    "    split_keyword = keyword_string.split(\" \")\n",
    "\n",
    "    retrieved_word = split_keyword[subject_index]\n",
    "    \n",
    "    return retrieved_word"
   ]
  },
  {
   "cell_type": "code",
   "execution_count": 50,
   "metadata": {},
   "outputs": [],
   "source": [
    "def create_ad_group_name(row):\n",
    "    subject = retrieve_dimension(row['keyword_template'], row['keywords'], \"subject\")\n",
    "    intent = retrieve_dimension(row['keyword_template'], row['keywords'], \"intent\")\n",
    "    pma = row['pma']\n",
    "    match_type = row['match_type']\n",
    "\n",
    "    ad_group_name = \"_\".join([subject, intent, pma, match_type])\n",
    "\n",
    "    return ad_group_name"
   ]
  },
  {
   "cell_type": "code",
   "execution_count": 53,
   "metadata": {},
   "outputs": [
    {
     "ename": "IndexError",
     "evalue": "list index out of range",
     "output_type": "error",
     "traceback": [
      "\u001b[0;31m---------------------------------------------------------------------------\u001b[0m",
      "\u001b[0;31mIndexError\u001b[0m                                Traceback (most recent call last)",
      "Cell \u001b[0;32mIn[53], line 1\u001b[0m\n\u001b[0;32m----> 1\u001b[0m intermediate\u001b[39m.\u001b[39;49mapply(\u001b[39mlambda\u001b[39;49;00m x :create_ad_group_name(x), axis\u001b[39m=\u001b[39;49m\u001b[39m1\u001b[39;49m)\n",
      "File \u001b[0;32m/usr/local/lib/python3.11/site-packages/pandas/core/frame.py:9433\u001b[0m, in \u001b[0;36mDataFrame.apply\u001b[0;34m(self, func, axis, raw, result_type, args, **kwargs)\u001b[0m\n\u001b[1;32m   9422\u001b[0m \u001b[39mfrom\u001b[39;00m \u001b[39mpandas\u001b[39;00m\u001b[39m.\u001b[39;00m\u001b[39mcore\u001b[39;00m\u001b[39m.\u001b[39;00m\u001b[39mapply\u001b[39;00m \u001b[39mimport\u001b[39;00m frame_apply\n\u001b[1;32m   9424\u001b[0m op \u001b[39m=\u001b[39m frame_apply(\n\u001b[1;32m   9425\u001b[0m     \u001b[39mself\u001b[39m,\n\u001b[1;32m   9426\u001b[0m     func\u001b[39m=\u001b[39mfunc,\n\u001b[0;32m   (...)\u001b[0m\n\u001b[1;32m   9431\u001b[0m     kwargs\u001b[39m=\u001b[39mkwargs,\n\u001b[1;32m   9432\u001b[0m )\n\u001b[0;32m-> 9433\u001b[0m \u001b[39mreturn\u001b[39;00m op\u001b[39m.\u001b[39;49mapply()\u001b[39m.\u001b[39m__finalize__(\u001b[39mself\u001b[39m, method\u001b[39m=\u001b[39m\u001b[39m\"\u001b[39m\u001b[39mapply\u001b[39m\u001b[39m\"\u001b[39m)\n",
      "File \u001b[0;32m/usr/local/lib/python3.11/site-packages/pandas/core/apply.py:678\u001b[0m, in \u001b[0;36mFrameApply.apply\u001b[0;34m(self)\u001b[0m\n\u001b[1;32m    675\u001b[0m \u001b[39melif\u001b[39;00m \u001b[39mself\u001b[39m\u001b[39m.\u001b[39mraw:\n\u001b[1;32m    676\u001b[0m     \u001b[39mreturn\u001b[39;00m \u001b[39mself\u001b[39m\u001b[39m.\u001b[39mapply_raw()\n\u001b[0;32m--> 678\u001b[0m \u001b[39mreturn\u001b[39;00m \u001b[39mself\u001b[39;49m\u001b[39m.\u001b[39;49mapply_standard()\n",
      "File \u001b[0;32m/usr/local/lib/python3.11/site-packages/pandas/core/apply.py:798\u001b[0m, in \u001b[0;36mFrameApply.apply_standard\u001b[0;34m(self)\u001b[0m\n\u001b[1;32m    797\u001b[0m \u001b[39mdef\u001b[39;00m \u001b[39mapply_standard\u001b[39m(\u001b[39mself\u001b[39m):\n\u001b[0;32m--> 798\u001b[0m     results, res_index \u001b[39m=\u001b[39m \u001b[39mself\u001b[39;49m\u001b[39m.\u001b[39;49mapply_series_generator()\n\u001b[1;32m    800\u001b[0m     \u001b[39m# wrap results\u001b[39;00m\n\u001b[1;32m    801\u001b[0m     \u001b[39mreturn\u001b[39;00m \u001b[39mself\u001b[39m\u001b[39m.\u001b[39mwrap_results(results, res_index)\n",
      "File \u001b[0;32m/usr/local/lib/python3.11/site-packages/pandas/core/apply.py:814\u001b[0m, in \u001b[0;36mFrameApply.apply_series_generator\u001b[0;34m(self)\u001b[0m\n\u001b[1;32m    811\u001b[0m \u001b[39mwith\u001b[39;00m option_context(\u001b[39m\"\u001b[39m\u001b[39mmode.chained_assignment\u001b[39m\u001b[39m\"\u001b[39m, \u001b[39mNone\u001b[39;00m):\n\u001b[1;32m    812\u001b[0m     \u001b[39mfor\u001b[39;00m i, v \u001b[39min\u001b[39;00m \u001b[39menumerate\u001b[39m(series_gen):\n\u001b[1;32m    813\u001b[0m         \u001b[39m# ignore SettingWithCopy here in case the user mutates\u001b[39;00m\n\u001b[0;32m--> 814\u001b[0m         results[i] \u001b[39m=\u001b[39m \u001b[39mself\u001b[39;49m\u001b[39m.\u001b[39;49mf(v)\n\u001b[1;32m    815\u001b[0m         \u001b[39mif\u001b[39;00m \u001b[39misinstance\u001b[39m(results[i], ABCSeries):\n\u001b[1;32m    816\u001b[0m             \u001b[39m# If we have a view on v, we need to make a copy because\u001b[39;00m\n\u001b[1;32m    817\u001b[0m             \u001b[39m#  series_generator will swap out the underlying data\u001b[39;00m\n\u001b[1;32m    818\u001b[0m             results[i] \u001b[39m=\u001b[39m results[i]\u001b[39m.\u001b[39mcopy(deep\u001b[39m=\u001b[39m\u001b[39mFalse\u001b[39;00m)\n",
      "Cell \u001b[0;32mIn[53], line 1\u001b[0m, in \u001b[0;36m<lambda>\u001b[0;34m(x)\u001b[0m\n\u001b[0;32m----> 1\u001b[0m intermediate\u001b[39m.\u001b[39mapply(\u001b[39mlambda\u001b[39;00m x :create_ad_group_name(x), axis\u001b[39m=\u001b[39m\u001b[39m1\u001b[39m)\n",
      "Cell \u001b[0;32mIn[50], line 3\u001b[0m, in \u001b[0;36mcreate_ad_group_name\u001b[0;34m(row)\u001b[0m\n\u001b[1;32m      1\u001b[0m \u001b[39mdef\u001b[39;00m \u001b[39mcreate_ad_group_name\u001b[39m(row):\n\u001b[1;32m      2\u001b[0m     subject \u001b[39m=\u001b[39m retrieve_dimension(row[\u001b[39m'\u001b[39m\u001b[39mkeyword_template\u001b[39m\u001b[39m'\u001b[39m], row[\u001b[39m'\u001b[39m\u001b[39mkeywords\u001b[39m\u001b[39m'\u001b[39m], \u001b[39m\"\u001b[39m\u001b[39msubject\u001b[39m\u001b[39m\"\u001b[39m)\n\u001b[0;32m----> 3\u001b[0m     intent \u001b[39m=\u001b[39m retrieve_dimension(row[\u001b[39m'\u001b[39;49m\u001b[39mkeyword_template\u001b[39;49m\u001b[39m'\u001b[39;49m], row[\u001b[39m'\u001b[39;49m\u001b[39mkeywords\u001b[39;49m\u001b[39m'\u001b[39;49m], \u001b[39m\"\u001b[39;49m\u001b[39mintent\u001b[39;49m\u001b[39m\"\u001b[39;49m)\n\u001b[1;32m      4\u001b[0m     pma \u001b[39m=\u001b[39m row[\u001b[39m'\u001b[39m\u001b[39mpma\u001b[39m\u001b[39m'\u001b[39m]\n\u001b[1;32m      5\u001b[0m     match_type \u001b[39m=\u001b[39m row[\u001b[39m'\u001b[39m\u001b[39mmatch_type\u001b[39m\u001b[39m'\u001b[39m]\n",
      "Cell \u001b[0;32mIn[49], line 11\u001b[0m, in \u001b[0;36mretrieve_dimension\u001b[0;34m(input_string, keyword_string, dimension)\u001b[0m\n\u001b[1;32m      7\u001b[0m subject_index \u001b[39m=\u001b[39m split_string\u001b[39m.\u001b[39mindex(dimension)\n\u001b[1;32m      9\u001b[0m split_keyword \u001b[39m=\u001b[39m keyword_string\u001b[39m.\u001b[39msplit(\u001b[39m\"\u001b[39m\u001b[39m \u001b[39m\u001b[39m\"\u001b[39m)\n\u001b[0;32m---> 11\u001b[0m retrieved_word \u001b[39m=\u001b[39m split_keyword[subject_index]\n\u001b[1;32m     13\u001b[0m \u001b[39mreturn\u001b[39;00m retrieved_word\n",
      "\u001b[0;31mIndexError\u001b[0m: list index out of range"
     ]
    }
   ],
   "source": [
    "intermediate.apply(lambda x :create_ad_group_name(x), axis=1)"
   ]
  }
 ],
 "metadata": {
  "kernelspec": {
   "display_name": "Python 3",
   "language": "python",
   "name": "python3"
  },
  "language_info": {
   "codemirror_mode": {
    "name": "ipython",
    "version": 3
   },
   "file_extension": ".py",
   "mimetype": "text/x-python",
   "name": "python",
   "nbconvert_exporter": "python",
   "pygments_lexer": "ipython3",
   "version": "3.11.3"
  },
  "orig_nbformat": 4
 },
 "nbformat": 4,
 "nbformat_minor": 2
}
