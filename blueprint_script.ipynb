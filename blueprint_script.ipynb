{
 "cells": [
  {
   "cell_type": "code",
   "execution_count": 1,
   "metadata": {},
   "outputs": [],
   "source": [
    "import time\n",
    "\n",
    "start = time.time()"
   ]
  },
  {
   "cell_type": "code",
   "execution_count": 2,
   "metadata": {},
   "outputs": [],
   "source": [
    "import pandas as pd\n",
    "intent = pd.read_csv('intent.csv')\n",
    "persona = pd.read_csv('persona.csv')\n",
    "subject = pd.read_csv('subject.csv')\n",
    "template = pd.read_csv('template.csv')\n",
    "pma = pd.read_csv('pma.csv')\n",
    "match_type = {'match_type': ['br', 'xx']}\n",
    "match_type = pd.DataFrame(match_type)\n",
    "ad_group_name = {'ad_group_template': ['subject,intent,pma,match_type']}\n",
    "ad_group_name = pd.DataFrame(ad_group_name)\n",
    "location = pd.read_csv(\"location.csv\")\n",
    "market = pd.read_csv('market.csv', usecols=['language', 'market', 'account', 'account_id'])\n",
    "campaign = pd.read_csv('campaign.csv', usecols=['market', 'campaign_name_template'])\n",
    "other = pd.read_csv('other.csv')\n",
    "medium = pd.read_csv('medium.csv')"
   ]
  },
  {
   "cell_type": "code",
   "execution_count": 3,
   "metadata": {},
   "outputs": [],
   "source": [
    "intermediate = template.merge(pma, on='intent_localised_id', how='inner')[['intent_localised_id', 'intent_localised_x', 'keyword_template', 'language', 'pma']]\n",
    "intermediate = intermediate.merge(match_type, how='cross')\n",
    "intermediate = intermediate.merge(ad_group_name, how='cross')\n",
    "intermediate = intermediate.merge(market, on='language', how='inner')\n",
    "# intermediate = intermediate.merge(other, on='language', how='inner')\n",
    "# intermediate = intermediate.merge(medium, on='language', how='inner')\n",
    "\n"
   ]
  },
  {
   "cell_type": "code",
   "execution_count": 4,
   "metadata": {},
   "outputs": [],
   "source": [
    "intermediate.rename(columns={'intent_localised_x': 'intent'}, inplace=True)"
   ]
  },
  {
   "cell_type": "code",
   "execution_count": 5,
   "metadata": {},
   "outputs": [],
   "source": [
    "import numpy as np\n",
    "from itertools import product\n",
    "\n",
    "dimension_dfs = {\n",
    "    'subject': subject,\n",
    "    'persona': persona,\n",
    "    'other' : other,\n",
    "    'medium': medium\n",
    "}\n",
    "\n",
    "def create_keywords(row):\n",
    "    dimensions = row['keyword_template'].split(',')\n",
    "    language = row['language']\n",
    "    market = row['market']\n",
    "    combinations = []\n",
    "\n",
    "    for dimension in dimensions:\n",
    "\n",
    "        if dimension == 'location':\n",
    "            combinations.append(location['location'][location.market == market].values.tolist())\n",
    "            continue\n",
    "\n",
    "        if dimension == 'intent':\n",
    "            combinations.append([row[\"intent\"]])\n",
    "            continue\n",
    "        \n",
    "        if dimension in dimension_dfs:\n",
    "            combinations.append(dimension_dfs[dimension].loc[dimension_dfs[dimension]['language'] == language, f'{dimension}_localised'].values.tolist())\n",
    "        else:\n",
    "            combinations.append([dimension])\n",
    "\n",
    "    # Create all possible combinations\n",
    "    combinations = list(product(*combinations))\n",
    "    combinations = [' '.join(combination) for combination in combinations]\n",
    "\n",
    "    return combinations"
   ]
  },
  {
   "cell_type": "code",
   "execution_count": 6,
   "metadata": {},
   "outputs": [],
   "source": [
    "intermediate['keywords'] = intermediate.apply(create_keywords, axis=1)"
   ]
  },
  {
   "cell_type": "code",
   "execution_count": 7,
   "metadata": {},
   "outputs": [],
   "source": [
    "intermediate = intermediate.explode('keywords')"
   ]
  },
  {
   "cell_type": "code",
   "execution_count": 8,
   "metadata": {},
   "outputs": [],
   "source": [
    "intermediate = intermediate.merge(campaign, on='market', how='inner')"
   ]
  },
  {
   "cell_type": "code",
   "execution_count": 9,
   "metadata": {},
   "outputs": [],
   "source": [
    "intermediate.dropna(subset=['keywords'], inplace=True)"
   ]
  },
  {
   "cell_type": "code",
   "execution_count": 10,
   "metadata": {},
   "outputs": [],
   "source": [
    "def retrieve_dimension(input_string, keyword_string, dimension): \n",
    "    \n",
    "    split_string = input_string.split(\",\")\n",
    "\n",
    "    subject_index = split_string.index(dimension)\n",
    "\n",
    "    split_keyword = keyword_string.split(\" \")\n",
    "\n",
    "    retrieved_word = split_keyword[subject_index]\n",
    "    \n",
    "    return retrieved_word"
   ]
  },
  {
   "cell_type": "code",
   "execution_count": 11,
   "metadata": {},
   "outputs": [],
   "source": [
    "# Extract dimension from keywords\n",
    "intermediate['subject'] = intermediate.apply(lambda row: retrieve_dimension(row['keyword_template'], row['keywords'], 'subject'), axis=1)\n",
    "\n",
    "# Vectorized computation of ad group name\n",
    "intermediate['ad_group_name'] = intermediate['subject'] + '_' + intermediate['intent'] + '_' + intermediate['pma'] + '_' + intermediate['match_type']"
   ]
  },
  {
   "cell_type": "code",
   "execution_count": 12,
   "metadata": {},
   "outputs": [],
   "source": [
    "# def create_ad_group_name(row):\n",
    "#     # this part creates ad group name\n",
    "#     subject = retrieve_dimension(row['keyword_template'], row['keywords'], \"subject\")\n",
    "#     intent = retrieve_dimension(row['keyword_template'], row['keywords'], \"intent\")\n",
    "#     pma = row['pma']\n",
    "#     match_type = row['match_type']\n",
    "#     ad_group_name = \"_\".join([subject, intent, pma, match_type])\n",
    "\n",
    "#     # taking advantage of the fact that we already have subject extracted, we are going to add it below\n",
    "#     # as per blueprint requirements\n",
    "\n",
    "#     return ad_group_name, subject"
   ]
  },
  {
   "cell_type": "code",
   "execution_count": 13,
   "metadata": {},
   "outputs": [],
   "source": [
    "# intermediate[[\"ad_group_name\", \"subject\"]] = intermediate.apply(lambda x :create_ad_group_name(x), axis=1, result_type='expand')"
   ]
  },
  {
   "cell_type": "code",
   "execution_count": 14,
   "metadata": {},
   "outputs": [],
   "source": [
    "# def assign_campaign_template_order(market):\n",
    "#     if len(market) == 2 and market != 'ww':\n",
    "#         return 1\n",
    "    \n",
    "#     if len(market) > 2 or market == 'ww':\n",
    "#         return 2\n",
    "\n",
    "# def create_campaign_name(row):\n",
    "#     language = row['language']\n",
    "#     market = row['market']\n",
    "#     match_type = row['match_type']\n",
    "#     campaign_template_order = assign_campaign_template_order(market)\n",
    "\n",
    "#     if campaign_template_order == 1:\n",
    "#         return \"\".join(['stu_sem_generic_web_0_', language, '_', market, '_xx_multiplesub_', match_type])\n",
    "    \n",
    "#     if campaign_template_order == 2:\n",
    "#         return \"\".join(['stu_sem_generic_web_0_', language, '_xx_multiplesub_', match_type, \"-\", market])"
   ]
  },
  {
   "cell_type": "code",
   "execution_count": 15,
   "metadata": {},
   "outputs": [],
   "source": [
    "# intermediate['campaign_name'] = intermediate.apply(lambda x: create_campaign_name(x), axis=1)"
   ]
  },
  {
   "cell_type": "code",
   "execution_count": 16,
   "metadata": {},
   "outputs": [],
   "source": [
    "# Pre-calculate variables for assign_campaign_template_order\n",
    "market_len = intermediate['market'].str.len()\n",
    "market_ww = intermediate['market'] == 'ww'\n",
    "\n",
    "# Assign campaign template order (vectorized)\n",
    "intermediate['campaign_template_order'] = np.where((market_len == 2) & ~market_ww, 1, 2)\n",
    "\n",
    "# Vectorized computation of campaign name\n",
    "intermediate['campaign_name'] = np.where(intermediate['campaign_template_order'] == 1, 'stu_sem_generic_web_0_' + intermediate['language'] + '_' + intermediate['market'] + '_xx_multiplesub_' + intermediate['match_type'],\n",
    "                                                           'stu_sem_generic_web_0_' + intermediate['language'] + '_xx_multiplesub_' + intermediate['match_type'] + '-' + intermediate['market'])"
   ]
  },
  {
   "cell_type": "code",
   "execution_count": 17,
   "metadata": {},
   "outputs": [
    {
     "data": {
      "text/html": [
       "<div>\n",
       "<style scoped>\n",
       "    .dataframe tbody tr th:only-of-type {\n",
       "        vertical-align: middle;\n",
       "    }\n",
       "\n",
       "    .dataframe tbody tr th {\n",
       "        vertical-align: top;\n",
       "    }\n",
       "\n",
       "    .dataframe thead th {\n",
       "        text-align: right;\n",
       "    }\n",
       "</style>\n",
       "<table border=\"1\" class=\"dataframe\">\n",
       "  <thead>\n",
       "    <tr style=\"text-align: right;\">\n",
       "      <th></th>\n",
       "      <th>language</th>\n",
       "      <th>account</th>\n",
       "      <th>campaign_name</th>\n",
       "      <th>subject</th>\n",
       "      <th>ad_group_name</th>\n",
       "      <th>intent</th>\n",
       "      <th>keywords</th>\n",
       "    </tr>\n",
       "  </thead>\n",
       "  <tbody>\n",
       "    <tr>\n",
       "      <th>0</th>\n",
       "      <td>eng</td>\n",
       "      <td>AR</td>\n",
       "      <td>stu_sem_generic_web_0_eng_ae_xx_multiplesub_br</td>\n",
       "      <td>Arabic</td>\n",
       "      <td>Arabic_chat_method_br</td>\n",
       "      <td>chat</td>\n",
       "      <td>chat Arabic</td>\n",
       "    </tr>\n",
       "    <tr>\n",
       "      <th>1</th>\n",
       "      <td>eng</td>\n",
       "      <td>AR</td>\n",
       "      <td>stu_sem_generic_web_0_eng_ae_xx_multiplesub_br</td>\n",
       "      <td>Bengali</td>\n",
       "      <td>Bengali_chat_method_br</td>\n",
       "      <td>chat</td>\n",
       "      <td>chat Bengali</td>\n",
       "    </tr>\n",
       "    <tr>\n",
       "      <th>2</th>\n",
       "      <td>eng</td>\n",
       "      <td>AR</td>\n",
       "      <td>stu_sem_generic_web_0_eng_ae_xx_multiplesub_br</td>\n",
       "      <td>Croatian</td>\n",
       "      <td>Croatian_chat_method_br</td>\n",
       "      <td>chat</td>\n",
       "      <td>chat Croatian</td>\n",
       "    </tr>\n",
       "    <tr>\n",
       "      <th>3</th>\n",
       "      <td>eng</td>\n",
       "      <td>AR</td>\n",
       "      <td>stu_sem_generic_web_0_eng_ae_xx_multiplesub_br</td>\n",
       "      <td>Czech</td>\n",
       "      <td>Czech_chat_method_br</td>\n",
       "      <td>chat</td>\n",
       "      <td>chat Czech</td>\n",
       "    </tr>\n",
       "    <tr>\n",
       "      <th>4</th>\n",
       "      <td>eng</td>\n",
       "      <td>AR</td>\n",
       "      <td>stu_sem_generic_web_0_eng_ae_xx_multiplesub_br</td>\n",
       "      <td>English</td>\n",
       "      <td>English_chat_method_br</td>\n",
       "      <td>chat</td>\n",
       "      <td>chat English</td>\n",
       "    </tr>\n",
       "    <tr>\n",
       "      <th>...</th>\n",
       "      <td>...</td>\n",
       "      <td>...</td>\n",
       "      <td>...</td>\n",
       "      <td>...</td>\n",
       "      <td>...</td>\n",
       "      <td>...</td>\n",
       "      <td>...</td>\n",
       "    </tr>\n",
       "    <tr>\n",
       "      <th>10129735</th>\n",
       "      <td>ukr</td>\n",
       "      <td>RU UA</td>\n",
       "      <td>stu_sem_generic_web_0_ukr_ua_xx_multiplesub_xx</td>\n",
       "      <td>Хімія</td>\n",
       "      <td>Хімія_Direct_competitor_xx</td>\n",
       "      <td>Direct</td>\n",
       "      <td>Хімія Direct</td>\n",
       "    </tr>\n",
       "    <tr>\n",
       "      <th>10129736</th>\n",
       "      <td>ukr</td>\n",
       "      <td>RU UA</td>\n",
       "      <td>stu_sem_generic_web_0_ukr_ua_xx_multiplesub_xx</td>\n",
       "      <td>Тагальська</td>\n",
       "      <td>Тагальська_Direct_competitor_xx</td>\n",
       "      <td>Direct</td>\n",
       "      <td>Тагальська Direct</td>\n",
       "    </tr>\n",
       "    <tr>\n",
       "      <th>10129737</th>\n",
       "      <td>ukr</td>\n",
       "      <td>RU UA</td>\n",
       "      <td>stu_sem_generic_web_0_ukr_ua_xx_multiplesub_xx</td>\n",
       "      <td>Китайська</td>\n",
       "      <td>Китайська_Direct_competitor_xx</td>\n",
       "      <td>Direct</td>\n",
       "      <td>Китайська Direct</td>\n",
       "    </tr>\n",
       "    <tr>\n",
       "      <th>10129738</th>\n",
       "      <td>ukr</td>\n",
       "      <td>RU UA</td>\n",
       "      <td>stu_sem_generic_web_0_ukr_ua_xx_multiplesub_xx</td>\n",
       "      <td>Іспанська</td>\n",
       "      <td>Іспанська_Direct_competitor_xx</td>\n",
       "      <td>Direct</td>\n",
       "      <td>Іспанська Direct</td>\n",
       "    </tr>\n",
       "    <tr>\n",
       "      <th>10129739</th>\n",
       "      <td>ukr</td>\n",
       "      <td>RU UA</td>\n",
       "      <td>stu_sem_generic_web_0_ukr_ua_xx_multiplesub_xx</td>\n",
       "      <td>Латинська</td>\n",
       "      <td>Латинська_Direct_competitor_xx</td>\n",
       "      <td>Direct</td>\n",
       "      <td>Латинська Direct</td>\n",
       "    </tr>\n",
       "  </tbody>\n",
       "</table>\n",
       "<p>10114072 rows × 7 columns</p>\n",
       "</div>"
      ],
      "text/plain": [
       "         language account                                   campaign_name   \n",
       "0             eng      AR  stu_sem_generic_web_0_eng_ae_xx_multiplesub_br  \\\n",
       "1             eng      AR  stu_sem_generic_web_0_eng_ae_xx_multiplesub_br   \n",
       "2             eng      AR  stu_sem_generic_web_0_eng_ae_xx_multiplesub_br   \n",
       "3             eng      AR  stu_sem_generic_web_0_eng_ae_xx_multiplesub_br   \n",
       "4             eng      AR  stu_sem_generic_web_0_eng_ae_xx_multiplesub_br   \n",
       "...           ...     ...                                             ...   \n",
       "10129735      ukr   RU UA  stu_sem_generic_web_0_ukr_ua_xx_multiplesub_xx   \n",
       "10129736      ukr   RU UA  stu_sem_generic_web_0_ukr_ua_xx_multiplesub_xx   \n",
       "10129737      ukr   RU UA  stu_sem_generic_web_0_ukr_ua_xx_multiplesub_xx   \n",
       "10129738      ukr   RU UA  stu_sem_generic_web_0_ukr_ua_xx_multiplesub_xx   \n",
       "10129739      ukr   RU UA  stu_sem_generic_web_0_ukr_ua_xx_multiplesub_xx   \n",
       "\n",
       "             subject                    ad_group_name  intent   \n",
       "0             Arabic            Arabic_chat_method_br    chat  \\\n",
       "1            Bengali           Bengali_chat_method_br    chat   \n",
       "2           Croatian          Croatian_chat_method_br    chat   \n",
       "3              Czech             Czech_chat_method_br    chat   \n",
       "4            English           English_chat_method_br    chat   \n",
       "...              ...                              ...     ...   \n",
       "10129735       Хімія       Хімія_Direct_competitor_xx  Direct   \n",
       "10129736  Тагальська  Тагальська_Direct_competitor_xx  Direct   \n",
       "10129737   Китайська   Китайська_Direct_competitor_xx  Direct   \n",
       "10129738   Іспанська   Іспанська_Direct_competitor_xx  Direct   \n",
       "10129739   Латинська   Латинська_Direct_competitor_xx  Direct   \n",
       "\n",
       "                   keywords  \n",
       "0               chat Arabic  \n",
       "1              chat Bengali  \n",
       "2             chat Croatian  \n",
       "3                chat Czech  \n",
       "4              chat English  \n",
       "...                     ...  \n",
       "10129735       Хімія Direct  \n",
       "10129736  Тагальська Direct  \n",
       "10129737   Китайська Direct  \n",
       "10129738   Іспанська Direct  \n",
       "10129739   Латинська Direct  \n",
       "\n",
       "[10114072 rows x 7 columns]"
      ]
     },
     "execution_count": 17,
     "metadata": {},
     "output_type": "execute_result"
    }
   ],
   "source": [
    "intermediate[['language', 'account', 'campaign_name', 'subject', 'ad_group_name', 'intent', 'keywords']]"
   ]
  },
  {
   "cell_type": "code",
   "execution_count": 18,
   "metadata": {},
   "outputs": [
    {
     "name": "stdout",
     "output_type": "stream",
     "text": [
      "The code ran in 2.15787756840388 minutes.\n"
     ]
    }
   ],
   "source": [
    "end = time.time()\n",
    "runtime = (end - start) / 60\n",
    "print(f'The code ran in {runtime} minutes.')"
   ]
  }
 ],
 "metadata": {
  "kernelspec": {
   "display_name": "Python 3",
   "language": "python",
   "name": "python3"
  },
  "language_info": {
   "codemirror_mode": {
    "name": "ipython",
    "version": 3
   },
   "file_extension": ".py",
   "mimetype": "text/x-python",
   "name": "python",
   "nbconvert_exporter": "python",
   "pygments_lexer": "ipython3",
   "version": "3.11.3"
  },
  "orig_nbformat": 4
 },
 "nbformat": 4,
 "nbformat_minor": 2
}
