{
 "cells": [
  {
   "cell_type": "code",
   "execution_count": 41,
   "metadata": {},
   "outputs": [],
   "source": [
    "import time\n",
    "\n",
    "start = time.time()"
   ]
  },
  {
   "cell_type": "code",
   "execution_count": 42,
   "metadata": {},
   "outputs": [],
   "source": [
    "import pandas as pd\n",
    "intent = pd.read_csv('intent.csv')\n",
    "persona = pd.read_csv('persona.csv')\n",
    "subject = pd.read_csv('subject.csv')\n",
    "template = pd.read_csv('template.csv')\n",
    "pma = pd.read_csv('pma.csv')\n",
    "match_type = {'match_type': ['br', 'xx']}\n",
    "match_type = pd.DataFrame(match_type)\n",
    "ad_group_name = {'ad_group_template': ['subject,intent,pma,match_type']}\n",
    "ad_group_name = pd.DataFrame(ad_group_name)\n",
    "location = pd.read_csv(\"location.csv\")\n",
    "market = pd.read_csv('market.csv', usecols=['language', 'market', 'account', 'account_id'])\n",
    "campaign = pd.read_csv('campaign.csv', usecols=['market', 'campaign_name_template'])\n",
    "other = pd.read_csv('other.csv')\n",
    "medium = pd.read_csv('medium.csv')"
   ]
  },
  {
   "cell_type": "code",
   "execution_count": 43,
   "metadata": {},
   "outputs": [],
   "source": [
    "intermediate = template.merge(pma, on='intent_localised_id', how='inner')[['intent_localised_id', 'intent_localised_x', 'keyword_template', 'language', 'pma']]\n",
    "intermediate = intermediate.merge(match_type, how='cross')\n",
    "intermediate = intermediate.merge(ad_group_name, how='cross')\n",
    "intermediate = intermediate.merge(market, on='language', how='inner')"
   ]
  },
  {
   "cell_type": "code",
   "execution_count": 44,
   "metadata": {},
   "outputs": [],
   "source": [
    "intermediate.rename(columns={'intent_localised_x': 'intent'}, inplace=True)"
   ]
  },
  {
   "cell_type": "code",
   "execution_count": 45,
   "metadata": {},
   "outputs": [],
   "source": [
    "import numpy as np\n",
    "from itertools import product\n",
    "\n",
    "dimension_dfs = {\n",
    "    'subject': subject,\n",
    "    'persona': persona,\n",
    "    'other' : other,\n",
    "    'medium': medium\n",
    "}\n",
    "\n",
    "def create_keywords(row):\n",
    "    dimensions = row['keyword_template'].split(',')\n",
    "    language = row['language']\n",
    "    market = row['market']\n",
    "    combinations = []\n",
    "\n",
    "    for dimension in dimensions:\n",
    "\n",
    "        if dimension == 'location':\n",
    "            combinations.append(location['location'][location.market == market].values.tolist())\n",
    "            continue\n",
    "\n",
    "        if dimension == 'intent':\n",
    "            combinations.append([row[\"intent\"]])\n",
    "            continue\n",
    "        \n",
    "        if dimension in dimension_dfs:\n",
    "            combinations.append(dimension_dfs[dimension].loc[dimension_dfs[dimension]['language'] == language, f'{dimension}_localised'].values.tolist())\n",
    "        else:\n",
    "            combinations.append([dimension])\n",
    "\n",
    "    # Create all possible combinations\n",
    "    combinations = list(product(*combinations))\n",
    "    combinations = [' '.join(combination) for combination in combinations]\n",
    "\n",
    "    return combinations"
   ]
  },
  {
   "cell_type": "code",
   "execution_count": 46,
   "metadata": {},
   "outputs": [],
   "source": [
    "intermediate['keywords'] = intermediate.apply(create_keywords, axis=1)"
   ]
  },
  {
   "cell_type": "code",
   "execution_count": 47,
   "metadata": {},
   "outputs": [],
   "source": [
    "intermediate = intermediate.explode('keywords')"
   ]
  },
  {
   "cell_type": "code",
   "execution_count": 48,
   "metadata": {},
   "outputs": [],
   "source": [
    "intermediate = intermediate.merge(campaign, on='market', how='inner')"
   ]
  },
  {
   "cell_type": "code",
   "execution_count": 49,
   "metadata": {},
   "outputs": [],
   "source": [
    "intermediate.dropna(subset=['keywords'], inplace=True)"
   ]
  },
  {
   "cell_type": "code",
   "execution_count": 50,
   "metadata": {},
   "outputs": [],
   "source": [
    "def retrieve_dimension(input_string, keyword_string, dimension): \n",
    "    \n",
    "    split_string = input_string.split(\",\")\n",
    "\n",
    "    subject_index = split_string.index(dimension)\n",
    "\n",
    "    split_keyword = keyword_string.split(\" \")\n",
    "\n",
    "    retrieved_word = split_keyword[subject_index]\n",
    "    \n",
    "    return retrieved_word"
   ]
  },
  {
   "cell_type": "code",
   "execution_count": 51,
   "metadata": {},
   "outputs": [],
   "source": [
    "# Extract dimension from keywords\n",
    "intermediate['subject'] = intermediate.apply(lambda row: retrieve_dimension(row['keyword_template'], row['keywords'], 'subject'), axis=1)\n",
    "\n",
    "# Vectorized computation of ad group name\n",
    "intermediate['ad_group_name'] = intermediate['subject'] + '_' + intermediate['intent'] + '_' + intermediate['pma'] + '_' + intermediate['match_type']\n",
    "intermediate['ad_group_name'] = intermediate['ad_group_name'].str.lower()"
   ]
  },
  {
   "cell_type": "code",
   "execution_count": null,
   "metadata": {},
   "outputs": [],
   "source": [
    "# Pre-calculate variables for assign_campaign_template_order\n",
    "market_len = intermediate['market'].str.len()\n",
    "market_ww = intermediate['market'] == 'ww'\n",
    "\n",
    "# Assign campaign template order (vectorized)\n",
    "intermediate['campaign_template_order'] = np.where((market_len == 2) & ~market_ww, 1, 2)\n",
    "\n",
    "# Vectorized computation of campaign name\n",
    "intermediate['campaign_name'] = np.where(intermediate['campaign_template_order'] == 1, 'stu_sem_generic_web_0_' + intermediate['language'] + '_' + intermediate['market'] + '_xx_multiplesub_' + intermediate['match_type'],\n",
    "                                                           'stu_sem_generic_web_0_' + intermediate['language'] + '_xx_multiplesub_' + intermediate['match_type'] + '-' + intermediate['market'])"
   ]
  },
  {
   "cell_type": "code",
   "execution_count": null,
   "metadata": {},
   "outputs": [],
   "source": [
    "intermediate[['language', 'account', 'campaign_name', 'subject', 'ad_group_name', 'intent', 'keywords']]"
   ]
  },
  {
   "cell_type": "code",
   "execution_count": null,
   "metadata": {},
   "outputs": [],
   "source": [
    "end = time.time()\n",
    "runtime = (end - start) / 60\n",
    "print(f'The code ran in {runtime} minutes.')"
   ]
  }
 ],
 "metadata": {
  "kernelspec": {
   "display_name": "Python 3",
   "language": "python",
   "name": "python3"
  },
  "language_info": {
   "codemirror_mode": {
    "name": "ipython",
    "version": 3
   },
   "file_extension": ".py",
   "mimetype": "text/x-python",
   "name": "python",
   "nbconvert_exporter": "python",
   "pygments_lexer": "ipython3",
   "version": "3.11.3"
  },
  "orig_nbformat": 4
 },
 "nbformat": 4,
 "nbformat_minor": 2
}
