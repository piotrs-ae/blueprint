{
 "cells": [
  {
   "cell_type": "code",
   "execution_count": 1,
   "metadata": {},
   "outputs": [],
   "source": [
    "import time\n",
    "\n",
    "start = time.time()"
   ]
  },
  {
   "cell_type": "code",
   "execution_count": 3,
   "metadata": {},
   "outputs": [],
   "source": [
    "import pandas as pd\n",
    "# intent = pd.read_csv('intent.csv')\n",
    "persona = pd.read_csv('persona.csv')\n",
    "subject = pd.read_csv('subject.csv')\n",
    "template = pd.read_csv('template.csv')\n",
    "pma = pd.read_csv('pma.csv')\n",
    "match_type = {'match_type': ['br', 'xx']}\n",
    "match_type = pd.DataFrame(match_type)\n",
    "ad_group_name = {'ad_group_template': ['subject,intent,pma,match_type']}\n",
    "ad_group_name = pd.DataFrame(ad_group_name)\n",
    "location = pd.read_csv(\"location.csv\")\n",
    "market = pd.read_csv('market.csv', usecols=['language', 'market', 'account', 'account_id'])\n",
    "campaign = pd.read_csv('campaign.csv', usecols=['market', 'campaign_name_template'])\n",
    "other = pd.read_csv('other.csv')\n",
    "medium = pd.read_csv('medium.csv')"
   ]
  },
  {
   "cell_type": "code",
   "execution_count": 3,
   "metadata": {},
   "outputs": [],
   "source": [
    "intermediate = template.merge(pma, on='intent_localised', how='inner')[['intent_localised', 'keyword_template', 'language', 'pma']]\n",
    "intermediate = intermediate.merge(market, on='language', how='inner')\n",
    "intermediate = intermediate.merge(campaign, on='market', how='inner')\n",
    "intermediate = intermediate.merge(match_type, how='cross')\n",
    "intermediate = intermediate.merge(ad_group_name, how='cross')"
   ]
  },
  {
   "cell_type": "code",
   "execution_count": 4,
   "metadata": {},
   "outputs": [],
   "source": [
    "intermediate.rename(columns={'intent_localised': 'intent'}, inplace=True)"
   ]
  },
  {
   "cell_type": "code",
   "execution_count": 5,
   "metadata": {},
   "outputs": [],
   "source": [
    "intermediate = intermediate[:2]"
   ]
  },
  {
   "cell_type": "code",
   "execution_count": 6,
   "metadata": {},
   "outputs": [],
   "source": [
    "import numpy as np\n",
    "from itertools import product\n",
    "\n",
    "dimension_dfs = {\n",
    "    'subject': subject,\n",
    "    'persona': persona,\n",
    "    'other' : other,\n",
    "    'medium': medium\n",
    "}\n",
    "\n",
    "def create_keywords(row):\n",
    "    dimensions = list(row['keyword_template'].split(','))\n",
    "    language = row['language']\n",
    "    market = row['market']\n",
    "    combinations = []\n",
    "\n",
    "    for dimension in dimensions:\n",
    "\n",
    "        if dimension == 'location':\n",
    "            combinations.append(location['location'][location.market == market].values.tolist())\n",
    "            continue\n",
    "\n",
    "        if dimension == 'intent':\n",
    "            combinations.append([row[\"intent\"]])\n",
    "            continue\n",
    "        \n",
    "        if dimension in dimension_dfs:\n",
    "            combinations.append(dimension_dfs[dimension].loc[dimension_dfs[dimension]['language'] == language, f'{dimension}_localised'].values.tolist())\n",
    "        else:\n",
    "            combinations.append([dimension])\n",
    "\n",
    "    # Create all possible combinations\n",
    "    combinations = list(product(*combinations))\n",
    "    combinations = [' '.join(combination) for combination in combinations]\n",
    "\n",
    "    return combinations"
   ]
  },
  {
   "cell_type": "code",
   "execution_count": null,
   "metadata": {},
   "outputs": [],
   "source": []
  },
  {
   "cell_type": "code",
   "execution_count": null,
   "metadata": {},
   "outputs": [],
   "source": []
  },
  {
   "cell_type": "code",
   "execution_count": null,
   "metadata": {},
   "outputs": [],
   "source": []
  },
  {
   "cell_type": "code",
   "execution_count": null,
   "metadata": {},
   "outputs": [],
   "source": []
  },
  {
   "cell_type": "code",
   "execution_count": null,
   "metadata": {},
   "outputs": [],
   "source": []
  },
  {
   "cell_type": "code",
   "execution_count": 6,
   "metadata": {},
   "outputs": [
    {
     "data": {
      "text/plain": [
       "0    [chat Arabic, chat Bengali, chat Croatian, cha...\n",
       "1    [chat Arabic, chat Bengali, chat Croatian, cha...\n",
       "dtype: object"
      ]
     },
     "execution_count": 6,
     "metadata": {},
     "output_type": "execute_result"
    }
   ],
   "source": [
    "intermediate.apply(lambda row: create_keywords(row), axis=1)\n",
    "# intermediate['keywords'] = intermediate.apply(lambda row: create_keywords(row), axis=1)"
   ]
  },
  {
   "cell_type": "code",
   "execution_count": 20,
   "metadata": {},
   "outputs": [
    {
     "data": {
      "text/html": [
       "<div>\n",
       "<style scoped>\n",
       "    .dataframe tbody tr th:only-of-type {\n",
       "        vertical-align: middle;\n",
       "    }\n",
       "\n",
       "    .dataframe tbody tr th {\n",
       "        vertical-align: top;\n",
       "    }\n",
       "\n",
       "    .dataframe thead th {\n",
       "        text-align: right;\n",
       "    }\n",
       "</style>\n",
       "<table border=\"1\" class=\"dataframe\">\n",
       "  <thead>\n",
       "    <tr style=\"text-align: right;\">\n",
       "      <th></th>\n",
       "      <th>intent</th>\n",
       "      <th>keyword_template</th>\n",
       "      <th>language</th>\n",
       "      <th>pma</th>\n",
       "      <th>market</th>\n",
       "      <th>account</th>\n",
       "      <th>account_id</th>\n",
       "      <th>campaign_name_template</th>\n",
       "      <th>match_type</th>\n",
       "      <th>ad_group_template</th>\n",
       "      <th>keywords</th>\n",
       "    </tr>\n",
       "  </thead>\n",
       "  <tbody>\n",
       "    <tr>\n",
       "      <th>0</th>\n",
       "      <td>chat</td>\n",
       "      <td>intent,subject</td>\n",
       "      <td>eng</td>\n",
       "      <td>method</td>\n",
       "      <td>ae</td>\n",
       "      <td>AR</td>\n",
       "      <td>673-471-4088</td>\n",
       "      <td>stu_sem_generic_web_0_,language,_,market,_xx_m...</td>\n",
       "      <td>br</td>\n",
       "      <td>subject,intent,pma,match_type</td>\n",
       "      <td>[chat Arabic, chat Bengali, chat Croatian, cha...</td>\n",
       "    </tr>\n",
       "    <tr>\n",
       "      <th>1</th>\n",
       "      <td>chat</td>\n",
       "      <td>intent,subject</td>\n",
       "      <td>eng</td>\n",
       "      <td>method</td>\n",
       "      <td>ae</td>\n",
       "      <td>AR</td>\n",
       "      <td>673-471-4088</td>\n",
       "      <td>stu_sem_generic_web_0_,language,_,market,_xx_m...</td>\n",
       "      <td>xx</td>\n",
       "      <td>subject,intent,pma,match_type</td>\n",
       "      <td>[chat Arabic, chat Bengali, chat Croatian, cha...</td>\n",
       "    </tr>\n",
       "  </tbody>\n",
       "</table>\n",
       "</div>"
      ],
      "text/plain": [
       "  intent keyword_template language     pma market account    account_id   \n",
       "0   chat   intent,subject      eng  method     ae      AR  673-471-4088  \\\n",
       "1   chat   intent,subject      eng  method     ae      AR  673-471-4088   \n",
       "\n",
       "                              campaign_name_template match_type   \n",
       "0  stu_sem_generic_web_0_,language,_,market,_xx_m...         br  \\\n",
       "1  stu_sem_generic_web_0_,language,_,market,_xx_m...         xx   \n",
       "\n",
       "               ad_group_template   \n",
       "0  subject,intent,pma,match_type  \\\n",
       "1  subject,intent,pma,match_type   \n",
       "\n",
       "                                            keywords  \n",
       "0  [chat Arabic, chat Bengali, chat Croatian, cha...  \n",
       "1  [chat Arabic, chat Bengali, chat Croatian, cha...  "
      ]
     },
     "execution_count": 20,
     "metadata": {},
     "output_type": "execute_result"
    }
   ],
   "source": [
    "intermediate"
   ]
  },
  {
   "cell_type": "code",
   "execution_count": 43,
   "metadata": {},
   "outputs": [
    {
     "name": "stderr",
     "output_type": "stream",
     "text": [
      "/var/folders/kd/8l856r0j1gg2vg3x7txqsnqh0000gq/T/ipykernel_27476/3707104698.py:1: SettingWithCopyWarning: \n",
      "A value is trying to be set on a copy of a slice from a DataFrame.\n",
      "Try using .loc[row_indexer,col_indexer] = value instead\n",
      "\n",
      "See the caveats in the documentation: https://pandas.pydata.org/pandas-docs/stable/user_guide/indexing.html#returning-a-view-versus-a-copy\n",
      "  intermediate['keywords'] = intermediate.apply(lambda row: create_keywords(row), axis=1)\n"
     ]
    }
   ],
   "source": [
    "intermediate['keywords'] = intermediate.apply(lambda row: create_keywords(row), axis=1)"
   ]
  },
  {
   "cell_type": "code",
   "execution_count": 23,
   "metadata": {},
   "outputs": [],
   "source": [
    "intermediate = intermediate.explode('keywords')"
   ]
  },
  {
   "cell_type": "code",
   "execution_count": 24,
   "metadata": {},
   "outputs": [],
   "source": [
    "intermediate.dropna(subset=['keywords'], inplace=True)"
   ]
  },
  {
   "cell_type": "code",
   "execution_count": 28,
   "metadata": {},
   "outputs": [],
   "source": [
    "def retrieve_dimension(row, dimension): \n",
    "    \n",
    "    split_string = row['keyword_template'].split(\",\")\n",
    "\n",
    "    subject_index = split_string.index(dimension)\n",
    "\n",
    "    split_keyword = row['keywords'].split(\" \")\n",
    "\n",
    "    retrieved_word = split_keyword[subject_index]\n",
    "    \n",
    "    return retrieved_word"
   ]
  },
  {
   "cell_type": "code",
   "execution_count": 29,
   "metadata": {},
   "outputs": [],
   "source": [
    "# Extract dimension from keywords\n",
    "intermediate['subject'] = intermediate.apply(lambda row: retrieve_dimension(row, 'subject'), axis=1)"
   ]
  },
  {
   "cell_type": "code",
   "execution_count": 30,
   "metadata": {},
   "outputs": [
    {
     "data": {
      "text/html": [
       "<div>\n",
       "<style scoped>\n",
       "    .dataframe tbody tr th:only-of-type {\n",
       "        vertical-align: middle;\n",
       "    }\n",
       "\n",
       "    .dataframe tbody tr th {\n",
       "        vertical-align: top;\n",
       "    }\n",
       "\n",
       "    .dataframe thead th {\n",
       "        text-align: right;\n",
       "    }\n",
       "</style>\n",
       "<table border=\"1\" class=\"dataframe\">\n",
       "  <thead>\n",
       "    <tr style=\"text-align: right;\">\n",
       "      <th></th>\n",
       "      <th>intent</th>\n",
       "      <th>keyword_template</th>\n",
       "      <th>language</th>\n",
       "      <th>pma</th>\n",
       "      <th>market</th>\n",
       "      <th>account</th>\n",
       "      <th>account_id</th>\n",
       "      <th>campaign_name_template</th>\n",
       "      <th>match_type</th>\n",
       "      <th>ad_group_template</th>\n",
       "      <th>keywords</th>\n",
       "      <th>subject</th>\n",
       "    </tr>\n",
       "  </thead>\n",
       "  <tbody>\n",
       "    <tr>\n",
       "      <th>0</th>\n",
       "      <td>chat</td>\n",
       "      <td>intent,subject</td>\n",
       "      <td>eng</td>\n",
       "      <td>method</td>\n",
       "      <td>ae</td>\n",
       "      <td>AR</td>\n",
       "      <td>673-471-4088</td>\n",
       "      <td>stu_sem_generic_web_0_,language,_,market,_xx_m...</td>\n",
       "      <td>br</td>\n",
       "      <td>subject,intent,pma,match_type</td>\n",
       "      <td>chat Arabic</td>\n",
       "      <td>Arabic</td>\n",
       "    </tr>\n",
       "    <tr>\n",
       "      <th>0</th>\n",
       "      <td>chat</td>\n",
       "      <td>intent,subject</td>\n",
       "      <td>eng</td>\n",
       "      <td>method</td>\n",
       "      <td>ae</td>\n",
       "      <td>AR</td>\n",
       "      <td>673-471-4088</td>\n",
       "      <td>stu_sem_generic_web_0_,language,_,market,_xx_m...</td>\n",
       "      <td>br</td>\n",
       "      <td>subject,intent,pma,match_type</td>\n",
       "      <td>chat Bengali</td>\n",
       "      <td>Bengali</td>\n",
       "    </tr>\n",
       "    <tr>\n",
       "      <th>0</th>\n",
       "      <td>chat</td>\n",
       "      <td>intent,subject</td>\n",
       "      <td>eng</td>\n",
       "      <td>method</td>\n",
       "      <td>ae</td>\n",
       "      <td>AR</td>\n",
       "      <td>673-471-4088</td>\n",
       "      <td>stu_sem_generic_web_0_,language,_,market,_xx_m...</td>\n",
       "      <td>br</td>\n",
       "      <td>subject,intent,pma,match_type</td>\n",
       "      <td>chat Croatian</td>\n",
       "      <td>Croatian</td>\n",
       "    </tr>\n",
       "    <tr>\n",
       "      <th>0</th>\n",
       "      <td>chat</td>\n",
       "      <td>intent,subject</td>\n",
       "      <td>eng</td>\n",
       "      <td>method</td>\n",
       "      <td>ae</td>\n",
       "      <td>AR</td>\n",
       "      <td>673-471-4088</td>\n",
       "      <td>stu_sem_generic_web_0_,language,_,market,_xx_m...</td>\n",
       "      <td>br</td>\n",
       "      <td>subject,intent,pma,match_type</td>\n",
       "      <td>chat Czech</td>\n",
       "      <td>Czech</td>\n",
       "    </tr>\n",
       "    <tr>\n",
       "      <th>0</th>\n",
       "      <td>chat</td>\n",
       "      <td>intent,subject</td>\n",
       "      <td>eng</td>\n",
       "      <td>method</td>\n",
       "      <td>ae</td>\n",
       "      <td>AR</td>\n",
       "      <td>673-471-4088</td>\n",
       "      <td>stu_sem_generic_web_0_,language,_,market,_xx_m...</td>\n",
       "      <td>br</td>\n",
       "      <td>subject,intent,pma,match_type</td>\n",
       "      <td>chat English</td>\n",
       "      <td>English</td>\n",
       "    </tr>\n",
       "    <tr>\n",
       "      <th>...</th>\n",
       "      <td>...</td>\n",
       "      <td>...</td>\n",
       "      <td>...</td>\n",
       "      <td>...</td>\n",
       "      <td>...</td>\n",
       "      <td>...</td>\n",
       "      <td>...</td>\n",
       "      <td>...</td>\n",
       "      <td>...</td>\n",
       "      <td>...</td>\n",
       "      <td>...</td>\n",
       "      <td>...</td>\n",
       "    </tr>\n",
       "    <tr>\n",
       "      <th>1</th>\n",
       "      <td>chat</td>\n",
       "      <td>intent,subject</td>\n",
       "      <td>eng</td>\n",
       "      <td>method</td>\n",
       "      <td>ae</td>\n",
       "      <td>AR</td>\n",
       "      <td>673-471-4088</td>\n",
       "      <td>stu_sem_generic_web_0_,language,_,market,_xx_m...</td>\n",
       "      <td>xx</td>\n",
       "      <td>subject,intent,pma,match_type</td>\n",
       "      <td>chat Sanskrit</td>\n",
       "      <td>Sanskrit</td>\n",
       "    </tr>\n",
       "    <tr>\n",
       "      <th>1</th>\n",
       "      <td>chat</td>\n",
       "      <td>intent,subject</td>\n",
       "      <td>eng</td>\n",
       "      <td>method</td>\n",
       "      <td>ae</td>\n",
       "      <td>AR</td>\n",
       "      <td>673-471-4088</td>\n",
       "      <td>stu_sem_generic_web_0_,language,_,market,_xx_m...</td>\n",
       "      <td>xx</td>\n",
       "      <td>subject,intent,pma,match_type</td>\n",
       "      <td>chat Math</td>\n",
       "      <td>Math</td>\n",
       "    </tr>\n",
       "    <tr>\n",
       "      <th>1</th>\n",
       "      <td>chat</td>\n",
       "      <td>intent,subject</td>\n",
       "      <td>eng</td>\n",
       "      <td>method</td>\n",
       "      <td>ae</td>\n",
       "      <td>AR</td>\n",
       "      <td>673-471-4088</td>\n",
       "      <td>stu_sem_generic_web_0_,language,_,market,_xx_m...</td>\n",
       "      <td>xx</td>\n",
       "      <td>subject,intent,pma,match_type</td>\n",
       "      <td>chat Chemistry</td>\n",
       "      <td>Chemistry</td>\n",
       "    </tr>\n",
       "    <tr>\n",
       "      <th>1</th>\n",
       "      <td>chat</td>\n",
       "      <td>intent,subject</td>\n",
       "      <td>eng</td>\n",
       "      <td>method</td>\n",
       "      <td>ae</td>\n",
       "      <td>AR</td>\n",
       "      <td>673-471-4088</td>\n",
       "      <td>stu_sem_generic_web_0_,language,_,market,_xx_m...</td>\n",
       "      <td>xx</td>\n",
       "      <td>subject,intent,pma,match_type</td>\n",
       "      <td>chat Russian</td>\n",
       "      <td>Russian</td>\n",
       "    </tr>\n",
       "    <tr>\n",
       "      <th>1</th>\n",
       "      <td>chat</td>\n",
       "      <td>intent,subject</td>\n",
       "      <td>eng</td>\n",
       "      <td>method</td>\n",
       "      <td>ae</td>\n",
       "      <td>AR</td>\n",
       "      <td>673-471-4088</td>\n",
       "      <td>stu_sem_generic_web_0_,language,_,market,_xx_m...</td>\n",
       "      <td>xx</td>\n",
       "      <td>subject,intent,pma,match_type</td>\n",
       "      <td>chat Slovak</td>\n",
       "      <td>Slovak</td>\n",
       "    </tr>\n",
       "  </tbody>\n",
       "</table>\n",
       "<p>116 rows × 12 columns</p>\n",
       "</div>"
      ],
      "text/plain": [
       "   intent keyword_template language     pma market account    account_id   \n",
       "0    chat   intent,subject      eng  method     ae      AR  673-471-4088  \\\n",
       "0    chat   intent,subject      eng  method     ae      AR  673-471-4088   \n",
       "0    chat   intent,subject      eng  method     ae      AR  673-471-4088   \n",
       "0    chat   intent,subject      eng  method     ae      AR  673-471-4088   \n",
       "0    chat   intent,subject      eng  method     ae      AR  673-471-4088   \n",
       "..    ...              ...      ...     ...    ...     ...           ...   \n",
       "1    chat   intent,subject      eng  method     ae      AR  673-471-4088   \n",
       "1    chat   intent,subject      eng  method     ae      AR  673-471-4088   \n",
       "1    chat   intent,subject      eng  method     ae      AR  673-471-4088   \n",
       "1    chat   intent,subject      eng  method     ae      AR  673-471-4088   \n",
       "1    chat   intent,subject      eng  method     ae      AR  673-471-4088   \n",
       "\n",
       "                               campaign_name_template match_type   \n",
       "0   stu_sem_generic_web_0_,language,_,market,_xx_m...         br  \\\n",
       "0   stu_sem_generic_web_0_,language,_,market,_xx_m...         br   \n",
       "0   stu_sem_generic_web_0_,language,_,market,_xx_m...         br   \n",
       "0   stu_sem_generic_web_0_,language,_,market,_xx_m...         br   \n",
       "0   stu_sem_generic_web_0_,language,_,market,_xx_m...         br   \n",
       "..                                                ...        ...   \n",
       "1   stu_sem_generic_web_0_,language,_,market,_xx_m...         xx   \n",
       "1   stu_sem_generic_web_0_,language,_,market,_xx_m...         xx   \n",
       "1   stu_sem_generic_web_0_,language,_,market,_xx_m...         xx   \n",
       "1   stu_sem_generic_web_0_,language,_,market,_xx_m...         xx   \n",
       "1   stu_sem_generic_web_0_,language,_,market,_xx_m...         xx   \n",
       "\n",
       "                ad_group_template        keywords    subject  \n",
       "0   subject,intent,pma,match_type     chat Arabic     Arabic  \n",
       "0   subject,intent,pma,match_type    chat Bengali    Bengali  \n",
       "0   subject,intent,pma,match_type   chat Croatian   Croatian  \n",
       "0   subject,intent,pma,match_type      chat Czech      Czech  \n",
       "0   subject,intent,pma,match_type    chat English    English  \n",
       "..                            ...             ...        ...  \n",
       "1   subject,intent,pma,match_type   chat Sanskrit   Sanskrit  \n",
       "1   subject,intent,pma,match_type       chat Math       Math  \n",
       "1   subject,intent,pma,match_type  chat Chemistry  Chemistry  \n",
       "1   subject,intent,pma,match_type    chat Russian    Russian  \n",
       "1   subject,intent,pma,match_type     chat Slovak     Slovak  \n",
       "\n",
       "[116 rows x 12 columns]"
      ]
     },
     "execution_count": 30,
     "metadata": {},
     "output_type": "execute_result"
    }
   ],
   "source": [
    "intermediate"
   ]
  },
  {
   "cell_type": "code",
   "execution_count": 17,
   "metadata": {},
   "outputs": [],
   "source": [
    "# Pre-calculate variables for assign_campaign_template_order\n",
    "market_len = intermediate['market'].str.len()\n",
    "market_ww = intermediate['market'] == 'ww'\n",
    "\n",
    "# Assign campaign template order (vectorized)\n",
    "intermediate['campaign_template_order'] = np.where((market_len == 2) & ~market_ww, 1, 2)\n",
    "\n",
    "# Vectorized computation of campaign name\n",
    "intermediate['campaign_name'] = np.where(intermediate['campaign_template_order'] == 1, 'stu_sem_generic_web_0_' + intermediate['language'] + '_' + intermediate['market'] + '_xx_multiplesub_' + intermediate['match_type'],\n",
    "                                                           'stu_sem_generic_web_0_' + intermediate['language'] + '_xx_multiplesub_' + intermediate['match_type'] + '-' + intermediate['market'])"
   ]
  },
  {
   "cell_type": "code",
   "execution_count": 18,
   "metadata": {},
   "outputs": [],
   "source": [
    "output_table = intermediate[['language', 'account', 'campaign_name', 'subject', 'ad_group_name', 'intent', 'keywords']]"
   ]
  },
  {
   "cell_type": "code",
   "execution_count": 19,
   "metadata": {},
   "outputs": [
    {
     "name": "stdout",
     "output_type": "stream",
     "text": [
      "The code ran in 1.7857733170191448 minutes.\n"
     ]
    }
   ],
   "source": [
    "end = time.time()\n",
    "runtime = (end - start) / 60\n",
    "print(f'The code ran in {runtime} minutes.')"
   ]
  },
  {
   "cell_type": "code",
   "execution_count": null,
   "metadata": {},
   "outputs": [],
   "source": []
  },
  {
   "cell_type": "code",
   "execution_count": null,
   "metadata": {},
   "outputs": [],
   "source": []
  },
  {
   "cell_type": "code",
   "execution_count": 1,
   "metadata": {},
   "outputs": [],
   "source": [
    "import pandas as pd\n",
    "import re\n",
    "from itertools import product"
   ]
  },
  {
   "cell_type": "code",
   "execution_count": 2,
   "metadata": {},
   "outputs": [],
   "source": [
    "df = pd.read_csv(\"dimensions_testing.csv\")"
   ]
  },
  {
   "cell_type": "code",
   "execution_count": 4,
   "metadata": {},
   "outputs": [],
   "source": [
    "dimension_dfs = {\n",
    "    'subject': subject,\n",
    "    'persona': persona,\n",
    "    'other' : other,\n",
    "    'medium': medium\n",
    "}"
   ]
  },
  {
   "cell_type": "code",
   "execution_count": 14,
   "metadata": {},
   "outputs": [
    {
     "name": "stdout",
     "output_type": "stream",
     "text": [
      "['(intent)', '\\\\\\\\S', '(subject)', '\\\\\\\\S', '(medium)']\n"
     ]
    }
   ],
   "source": [
    "# df['keyword_template'][0]\n",
    "pattern = r'(\\(.*?\\)|\\\\\\\\S|\\\\S|\\w+)'\n",
    "result = re.findall(pattern, df['keyword_template'][0])\n",
    "print(result)"
   ]
  },
  {
   "cell_type": "code",
   "execution_count": 22,
   "metadata": {},
   "outputs": [
    {
     "name": "stdout",
     "output_type": "stream",
     "text": [
      "(intent)\n"
     ]
    }
   ],
   "source": [
    "for val in result:\n",
    "    if val == '(intent)':\n",
    "        print(str(\"(\" + val[1:-1] + \")\"))"
   ]
  },
  {
   "cell_type": "code",
   "execution_count": 23,
   "metadata": {},
   "outputs": [
    {
     "data": {
      "text/plain": [
       "'(intent)\\\\\\\\S(subject)\\\\\\\\S(medium)'"
      ]
     },
     "execution_count": 23,
     "metadata": {},
     "output_type": "execute_result"
    }
   ],
   "source": [
    "df['keyword_template'][0]"
   ]
  },
  {
   "cell_type": "code",
   "execution_count": null,
   "metadata": {},
   "outputs": [],
   "source": [
    "def create_keywords(row, dimension_dfs, location):\n",
    "    dimensions = re.split(r'(\\(.*?\\)|\\\\S)', str(df['keyword_template'][0]))\n",
    "    language = row['language']\n",
    "    market = row['market']\n",
    "    combinations = []\n",
    "\n",
    "    for dimension in dimensions:\n",
    "\n",
    "        if dimension is None or dimension == '' or dimension == '\\\\':\n",
    "            continue\n",
    "        \n",
    "        if dimension == '(location)':\n",
    "            combinations.append(location['location'][location.market == market].values.tolist())\n",
    "            continue\n",
    "\n",
    "        if dimension == '(intent)':\n",
    "            combinations.append([row[\"intent_localised\"]])\n",
    "            continue\n",
    "        \n",
    "        if dimension in dimension_dfs:\n",
    "            dimension = dimension[1:-1]\n",
    "            combinations.append(dimension_dfs[str('(' + dimension + ')')].loc[dimension_dfs[str('(' + dimension + ')')]['language'] == language, f'{dimension}_localised'].values.tolist())\n",
    "        else:\n",
    "            combinations.append([dimension])\n",
    "\n",
    "    # Create all possible combinations\n",
    "    combinations = list(product(*combinations))\n",
    "    combinations = [' '.join(combination) for combination in combinations]\n",
    "\n",
    "    return dimensions #combinations"
   ]
  },
  {
   "cell_type": "code",
   "execution_count": null,
   "metadata": {},
   "outputs": [],
   "source": []
  }
 ],
 "metadata": {
  "kernelspec": {
   "display_name": "Python 3",
   "language": "python",
   "name": "python3"
  },
  "language_info": {
   "codemirror_mode": {
    "name": "ipython",
    "version": 3
   },
   "file_extension": ".py",
   "mimetype": "text/x-python",
   "name": "python",
   "nbconvert_exporter": "python",
   "pygments_lexer": "ipython3",
   "version": "3.11.4"
  },
  "orig_nbformat": 4
 },
 "nbformat": 4,
 "nbformat_minor": 2
}
