{
 "cells": [
  {
   "cell_type": "code",
   "execution_count": 2,
   "metadata": {},
   "outputs": [],
   "source": [
    "import pandas as pd"
   ]
  },
  {
   "cell_type": "code",
   "execution_count": 3,
   "metadata": {},
   "outputs": [],
   "source": [
    "intent = pd.read_csv('intent.csv')"
   ]
  },
  {
   "cell_type": "code",
   "execution_count": 4,
   "metadata": {},
   "outputs": [],
   "source": [
    "persona = pd.read_csv('persona.csv')"
   ]
  },
  {
   "cell_type": "code",
   "execution_count": 5,
   "metadata": {},
   "outputs": [],
   "source": [
    "subject = pd.read_csv('subject.csv')"
   ]
  },
  {
   "cell_type": "code",
   "execution_count": 6,
   "metadata": {},
   "outputs": [],
   "source": [
    "template = pd.read_csv('template.csv')"
   ]
  },
  {
   "cell_type": "code",
   "execution_count": 9,
   "metadata": {},
   "outputs": [],
   "source": [
    "template = template[:5]"
   ]
  },
  {
   "cell_type": "code",
   "execution_count": 10,
   "metadata": {},
   "outputs": [
    {
     "data": {
      "text/html": [
       "<div>\n",
       "<style scoped>\n",
       "    .dataframe tbody tr th:only-of-type {\n",
       "        vertical-align: middle;\n",
       "    }\n",
       "\n",
       "    .dataframe tbody tr th {\n",
       "        vertical-align: top;\n",
       "    }\n",
       "\n",
       "    .dataframe thead th {\n",
       "        text-align: right;\n",
       "    }\n",
       "</style>\n",
       "<table border=\"1\" class=\"dataframe\">\n",
       "  <thead>\n",
       "    <tr style=\"text-align: right;\">\n",
       "      <th></th>\n",
       "      <th>unique_keyword_id</th>\n",
       "      <th>intent_localised_id</th>\n",
       "      <th>keyword_template</th>\n",
       "      <th>language</th>\n",
       "    </tr>\n",
       "  </thead>\n",
       "  <tbody>\n",
       "    <tr>\n",
       "      <th>0</th>\n",
       "      <td>5137f7e3aaa9d54f24d67913786ce4ba</td>\n",
       "      <td>340cd1dcf5d3871fa2584362194cc4fe</td>\n",
       "      <td>intent,subject</td>\n",
       "      <td>eng</td>\n",
       "    </tr>\n",
       "    <tr>\n",
       "      <th>1</th>\n",
       "      <td>d67a76d8468c0641ff96dd69c0844180</td>\n",
       "      <td>340cd1dcf5d3871fa2584362194cc4fe</td>\n",
       "      <td>subject,intent</td>\n",
       "      <td>eng</td>\n",
       "    </tr>\n",
       "    <tr>\n",
       "      <th>2</th>\n",
       "      <td>1898cc68df3a1329ed2c7c3a1320ff94</td>\n",
       "      <td>90d991b47098ceef3d8283a386cf7e91</td>\n",
       "      <td>intent,subject</td>\n",
       "      <td>eng</td>\n",
       "    </tr>\n",
       "    <tr>\n",
       "      <th>3</th>\n",
       "      <td>01d6cbc7d1212e70cd859372a7b081f0</td>\n",
       "      <td>90d991b47098ceef3d8283a386cf7e91</td>\n",
       "      <td>subject,intent</td>\n",
       "      <td>eng</td>\n",
       "    </tr>\n",
       "    <tr>\n",
       "      <th>4</th>\n",
       "      <td>8ef49bdea5131365eb2ecee679824819</td>\n",
       "      <td>5a753229efb8128b16b50c38708c6638</td>\n",
       "      <td>subject,intent</td>\n",
       "      <td>eng</td>\n",
       "    </tr>\n",
       "  </tbody>\n",
       "</table>\n",
       "</div>"
      ],
      "text/plain": [
       "                  unique_keyword_id               intent_localised_id   \n",
       "0  5137f7e3aaa9d54f24d67913786ce4ba  340cd1dcf5d3871fa2584362194cc4fe  \\\n",
       "1  d67a76d8468c0641ff96dd69c0844180  340cd1dcf5d3871fa2584362194cc4fe   \n",
       "2  1898cc68df3a1329ed2c7c3a1320ff94  90d991b47098ceef3d8283a386cf7e91   \n",
       "3  01d6cbc7d1212e70cd859372a7b081f0  90d991b47098ceef3d8283a386cf7e91   \n",
       "4  8ef49bdea5131365eb2ecee679824819  5a753229efb8128b16b50c38708c6638   \n",
       "\n",
       "  keyword_template language  \n",
       "0   intent,subject      eng  \n",
       "1   subject,intent      eng  \n",
       "2   intent,subject      eng  \n",
       "3   subject,intent      eng  \n",
       "4   subject,intent      eng  "
      ]
     },
     "execution_count": 10,
     "metadata": {},
     "output_type": "execute_result"
    }
   ],
   "source": [
    "template"
   ]
  },
  {
   "cell_type": "code",
   "execution_count": 48,
   "metadata": {},
   "outputs": [],
   "source": [
    "list1 = template[:1].merge(subject, on='language')['subject_localised']"
   ]
  },
  {
   "cell_type": "code",
   "execution_count": 49,
   "metadata": {},
   "outputs": [],
   "source": [
    "list1 = pd.DataFrame(list1)"
   ]
  },
  {
   "cell_type": "code",
   "execution_count": 38,
   "metadata": {},
   "outputs": [],
   "source": [
    "list2 = template[:1].merge(persona, on='language')['persona_localised']"
   ]
  },
  {
   "cell_type": "code",
   "execution_count": 39,
   "metadata": {},
   "outputs": [],
   "source": [
    "list2 = pd.DataFrame(list2)"
   ]
  },
  {
   "cell_type": "code",
   "execution_count": 50,
   "metadata": {},
   "outputs": [],
   "source": [
    "list3 = template[:1].merge(intent, on='language')['intent_localised']"
   ]
  },
  {
   "cell_type": "code",
   "execution_count": 51,
   "metadata": {},
   "outputs": [],
   "source": [
    "list3 = pd.DataFrame(list3)"
   ]
  },
  {
   "cell_type": "code",
   "execution_count": 53,
   "metadata": {},
   "outputs": [],
   "source": [
    "list1['key'] = 0\n",
    "list2['key'] = 0\n",
    "list3['key'] = 0"
   ]
  },
  {
   "cell_type": "code",
   "execution_count": 44,
   "metadata": {},
   "outputs": [],
   "source": [
    "df_temp = pd.merge(list1, list2, on='key', how='outer')\n",
    "\n",
    "# Merge df_temp with df_persona\n",
    "df_final = pd.merge(df_temp, list3, on='key', how='outer')\n",
    "\n",
    "# Drop the key column\n",
    "# df_final = df_final.drop('key', 1)"
   ]
  },
  {
   "cell_type": "code",
   "execution_count": 54,
   "metadata": {},
   "outputs": [],
   "source": [
    "df_temp = pd.merge(list1, list3, on='key', how='outer')"
   ]
  },
  {
   "cell_type": "code",
   "execution_count": 55,
   "metadata": {},
   "outputs": [
    {
     "data": {
      "text/html": [
       "<div>\n",
       "<style scoped>\n",
       "    .dataframe tbody tr th:only-of-type {\n",
       "        vertical-align: middle;\n",
       "    }\n",
       "\n",
       "    .dataframe tbody tr th {\n",
       "        vertical-align: top;\n",
       "    }\n",
       "\n",
       "    .dataframe thead th {\n",
       "        text-align: right;\n",
       "    }\n",
       "</style>\n",
       "<table border=\"1\" class=\"dataframe\">\n",
       "  <thead>\n",
       "    <tr style=\"text-align: right;\">\n",
       "      <th></th>\n",
       "      <th>subject_localised</th>\n",
       "      <th>key</th>\n",
       "      <th>intent_localised</th>\n",
       "    </tr>\n",
       "  </thead>\n",
       "  <tbody>\n",
       "    <tr>\n",
       "      <th>0</th>\n",
       "      <td>Arabic</td>\n",
       "      <td>0</td>\n",
       "      <td>teacher</td>\n",
       "    </tr>\n",
       "    <tr>\n",
       "      <th>1</th>\n",
       "      <td>Arabic</td>\n",
       "      <td>0</td>\n",
       "      <td>tutor</td>\n",
       "    </tr>\n",
       "    <tr>\n",
       "      <th>2</th>\n",
       "      <td>Arabic</td>\n",
       "      <td>0</td>\n",
       "      <td>speaker</td>\n",
       "    </tr>\n",
       "    <tr>\n",
       "      <th>3</th>\n",
       "      <td>Arabic</td>\n",
       "      <td>0</td>\n",
       "      <td>partner</td>\n",
       "    </tr>\n",
       "    <tr>\n",
       "      <th>4</th>\n",
       "      <td>Arabic</td>\n",
       "      <td>0</td>\n",
       "      <td>class</td>\n",
       "    </tr>\n",
       "    <tr>\n",
       "      <th>...</th>\n",
       "      <td>...</td>\n",
       "      <td>...</td>\n",
       "      <td>...</td>\n",
       "    </tr>\n",
       "    <tr>\n",
       "      <th>3707</th>\n",
       "      <td>Slovak</td>\n",
       "      <td>0</td>\n",
       "      <td>OSD</td>\n",
       "    </tr>\n",
       "    <tr>\n",
       "      <th>3708</th>\n",
       "      <td>Slovak</td>\n",
       "      <td>0</td>\n",
       "      <td>National</td>\n",
       "    </tr>\n",
       "    <tr>\n",
       "      <th>3709</th>\n",
       "      <td>Slovak</td>\n",
       "      <td>0</td>\n",
       "      <td>CILS</td>\n",
       "    </tr>\n",
       "    <tr>\n",
       "      <th>3710</th>\n",
       "      <td>Slovak</td>\n",
       "      <td>0</td>\n",
       "      <td>JLPT</td>\n",
       "    </tr>\n",
       "    <tr>\n",
       "      <th>3711</th>\n",
       "      <td>Slovak</td>\n",
       "      <td>0</td>\n",
       "      <td>TOPIK</td>\n",
       "    </tr>\n",
       "  </tbody>\n",
       "</table>\n",
       "<p>3712 rows × 3 columns</p>\n",
       "</div>"
      ],
      "text/plain": [
       "     subject_localised  key intent_localised\n",
       "0               Arabic    0          teacher\n",
       "1               Arabic    0            tutor\n",
       "2               Arabic    0          speaker\n",
       "3               Arabic    0          partner\n",
       "4               Arabic    0            class\n",
       "...                ...  ...              ...\n",
       "3707            Slovak    0              OSD\n",
       "3708            Slovak    0         National\n",
       "3709            Slovak    0             CILS\n",
       "3710            Slovak    0             JLPT\n",
       "3711            Slovak    0            TOPIK\n",
       "\n",
       "[3712 rows x 3 columns]"
      ]
     },
     "execution_count": 55,
     "metadata": {},
     "output_type": "execute_result"
    }
   ],
   "source": [
    "df_temp.drop('key', axis=1, inplace=True)"
   ]
  },
  {
   "cell_type": "code",
   "execution_count": null,
   "metadata": {},
   "outputs": [],
   "source": [
    "import pandas as pd\n",
    "import numpy as np\n",
    "from itertools import product\n",
    "\n",
    "# Create a mapping of dimension names to dataframes\n",
    "dimension_dfs = {\n",
    "    'pma': pma_df,\n",
    "    'subject': subject_df,\n",
    "    'intent': intent_df,\n",
    "    'persona': persona_df\n",
    "}\n",
    "\n",
    "def combine_dimensions(row):\n",
    "    dimensions = row['keyword_template'].split(',')\n",
    "    language = row['language']\n",
    "    combinations = []\n",
    "\n",
    "    for dimension in dimensions:\n",
    "        if dimension in dimension_dfs:\n",
    "            combinations.append(dimension_dfs[dimension].loc[dimension_dfs[dimension]['language'] == language, f'{dimension}_localised'].values.tolist())\n",
    "        else:\n",
    "            combinations.append([dimension])\n",
    "\n",
    "    # Create all possible combinations\n",
    "    combinations = list(product(*combinations))\n",
    "    combinations = [' '.join(combination) for combination in combinations]\n",
    "\n",
    "    return pd.Series(combinations)\n",
    "\n",
    "# Apply combine_dimensions function to each row in keyword_template_df\n",
    "keyword_template_df['combinations'] = keyword_template_df.apply(combine_dimensions, axis=1)\n",
    "\n",
    "# Explode combinations into separate rows\n",
    "keyword_template_df = keyword_template_df.explode('combinations')\n",
    "\n",
    "# Merge keyword_template_df with campaign_template_df\n",
    "merged_df = pd.merge(keyword_template_df, campaign_template_df, on='market_id')\n",
    "\n",
    "# Function to handle campaign combinations\n",
    "def campaign_combinations(row):\n",
    "    campaign_template = row['campaign_template'].split(',')\n",
    "    replacements = {\n",
    "        'market_id': str(row['market_id']),\n",
    "        'language': row['language']\n",
    "        # Add more replacements as needed\n",
    "    }\n",
    "\n",
    "    # Replace elements of the campaign template as needed\n",
    "    campaign_template = [replacements.get(item, item) for item in campaign_template]\n",
    "\n",
    "    return ' '.join(campaign_template)\n",
    "\n",
    "# Apply campaign_combinations function to each row in merged_df\n",
    "merged_df['campaign_combination'] = merged_df.apply(campaign_combinations, axis=1)\n",
    "\n",
    "# Final output dataframe\n",
    "final_df = merged_df[['language', 'keyword_template', 'market_id', 'campaign_template', 'combinations', 'campaign_combination']]\n",
    "\n",
    "    "
   ]
  }
 ],
 "metadata": {
  "kernelspec": {
   "display_name": "Python 3",
   "language": "python",
   "name": "python3"
  },
  "language_info": {
   "codemirror_mode": {
    "name": "ipython",
    "version": 3
   },
   "file_extension": ".py",
   "mimetype": "text/x-python",
   "name": "python",
   "nbconvert_exporter": "python",
   "pygments_lexer": "ipython3",
   "version": "3.11.3"
  },
  "orig_nbformat": 4
 },
 "nbformat": 4,
 "nbformat_minor": 2
}
